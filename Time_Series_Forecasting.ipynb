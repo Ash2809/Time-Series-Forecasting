{
 "cells": [
  {
   "cell_type": "code",
   "execution_count": 22,
   "id": "f2496121-b8f0-47f5-9f15-7d0ce75420a5",
   "metadata": {},
   "outputs": [],
   "source": [
    "import pandas as pd\n",
    "import tensorflow as rf\n",
    "from keras.layers import Dense,LSTM\n",
    "from keras.models import Sequential\n",
    "from sklearn.preprocessing import MinMaxScaler\n",
    "import math\n",
    "from sklearn.metrics import mean_squared_error\n",
    "import numpy as np\n",
    "import os\n",
    "import seaborn as sns\n",
    "import matplotlib.pyplot as plt"
   ]
  },
  {
   "cell_type": "code",
   "execution_count": 2,
   "id": "affa64d7-ef1b-42fa-b4dd-7e1fa4c554fb",
   "metadata": {},
   "outputs": [
    {
     "data": {
      "text/html": [
       "<div>\n",
       "<style scoped>\n",
       "    .dataframe tbody tr th:only-of-type {\n",
       "        vertical-align: middle;\n",
       "    }\n",
       "\n",
       "    .dataframe tbody tr th {\n",
       "        vertical-align: top;\n",
       "    }\n",
       "\n",
       "    .dataframe thead th {\n",
       "        text-align: right;\n",
       "    }\n",
       "</style>\n",
       "<table border=\"1\" class=\"dataframe\">\n",
       "  <thead>\n",
       "    <tr style=\"text-align: right;\">\n",
       "      <th></th>\n",
       "      <th>Unnamed: 0</th>\n",
       "      <th>symbol</th>\n",
       "      <th>date</th>\n",
       "      <th>close</th>\n",
       "      <th>high</th>\n",
       "      <th>low</th>\n",
       "      <th>open</th>\n",
       "      <th>volume</th>\n",
       "      <th>adjClose</th>\n",
       "      <th>adjHigh</th>\n",
       "      <th>adjLow</th>\n",
       "      <th>adjOpen</th>\n",
       "      <th>adjVolume</th>\n",
       "      <th>divCash</th>\n",
       "      <th>splitFactor</th>\n",
       "    </tr>\n",
       "  </thead>\n",
       "  <tbody>\n",
       "    <tr>\n",
       "      <th>0</th>\n",
       "      <td>0</td>\n",
       "      <td>AAPL</td>\n",
       "      <td>2015-05-27 00:00:00+00:00</td>\n",
       "      <td>132.045</td>\n",
       "      <td>132.260</td>\n",
       "      <td>130.05</td>\n",
       "      <td>130.34</td>\n",
       "      <td>45833246</td>\n",
       "      <td>121.682558</td>\n",
       "      <td>121.880685</td>\n",
       "      <td>119.844118</td>\n",
       "      <td>120.111360</td>\n",
       "      <td>45833246</td>\n",
       "      <td>0.0</td>\n",
       "      <td>1.0</td>\n",
       "    </tr>\n",
       "    <tr>\n",
       "      <th>1</th>\n",
       "      <td>1</td>\n",
       "      <td>AAPL</td>\n",
       "      <td>2015-05-28 00:00:00+00:00</td>\n",
       "      <td>131.780</td>\n",
       "      <td>131.950</td>\n",
       "      <td>131.10</td>\n",
       "      <td>131.86</td>\n",
       "      <td>30733309</td>\n",
       "      <td>121.438354</td>\n",
       "      <td>121.595013</td>\n",
       "      <td>120.811718</td>\n",
       "      <td>121.512076</td>\n",
       "      <td>30733309</td>\n",
       "      <td>0.0</td>\n",
       "      <td>1.0</td>\n",
       "    </tr>\n",
       "    <tr>\n",
       "      <th>2</th>\n",
       "      <td>2</td>\n",
       "      <td>AAPL</td>\n",
       "      <td>2015-05-29 00:00:00+00:00</td>\n",
       "      <td>130.280</td>\n",
       "      <td>131.450</td>\n",
       "      <td>129.90</td>\n",
       "      <td>131.23</td>\n",
       "      <td>50884452</td>\n",
       "      <td>120.056069</td>\n",
       "      <td>121.134251</td>\n",
       "      <td>119.705890</td>\n",
       "      <td>120.931516</td>\n",
       "      <td>50884452</td>\n",
       "      <td>0.0</td>\n",
       "      <td>1.0</td>\n",
       "    </tr>\n",
       "    <tr>\n",
       "      <th>3</th>\n",
       "      <td>3</td>\n",
       "      <td>AAPL</td>\n",
       "      <td>2015-06-01 00:00:00+00:00</td>\n",
       "      <td>130.535</td>\n",
       "      <td>131.390</td>\n",
       "      <td>130.05</td>\n",
       "      <td>131.20</td>\n",
       "      <td>32112797</td>\n",
       "      <td>120.291057</td>\n",
       "      <td>121.078960</td>\n",
       "      <td>119.844118</td>\n",
       "      <td>120.903870</td>\n",
       "      <td>32112797</td>\n",
       "      <td>0.0</td>\n",
       "      <td>1.0</td>\n",
       "    </tr>\n",
       "    <tr>\n",
       "      <th>4</th>\n",
       "      <td>4</td>\n",
       "      <td>AAPL</td>\n",
       "      <td>2015-06-02 00:00:00+00:00</td>\n",
       "      <td>129.960</td>\n",
       "      <td>130.655</td>\n",
       "      <td>129.32</td>\n",
       "      <td>129.86</td>\n",
       "      <td>33667627</td>\n",
       "      <td>119.761181</td>\n",
       "      <td>120.401640</td>\n",
       "      <td>119.171406</td>\n",
       "      <td>119.669029</td>\n",
       "      <td>33667627</td>\n",
       "      <td>0.0</td>\n",
       "      <td>1.0</td>\n",
       "    </tr>\n",
       "  </tbody>\n",
       "</table>\n",
       "</div>"
      ],
      "text/plain": [
       "   Unnamed: 0 symbol                       date    close     high     low  \\\n",
       "0           0   AAPL  2015-05-27 00:00:00+00:00  132.045  132.260  130.05   \n",
       "1           1   AAPL  2015-05-28 00:00:00+00:00  131.780  131.950  131.10   \n",
       "2           2   AAPL  2015-05-29 00:00:00+00:00  130.280  131.450  129.90   \n",
       "3           3   AAPL  2015-06-01 00:00:00+00:00  130.535  131.390  130.05   \n",
       "4           4   AAPL  2015-06-02 00:00:00+00:00  129.960  130.655  129.32   \n",
       "\n",
       "     open    volume    adjClose     adjHigh      adjLow     adjOpen  \\\n",
       "0  130.34  45833246  121.682558  121.880685  119.844118  120.111360   \n",
       "1  131.86  30733309  121.438354  121.595013  120.811718  121.512076   \n",
       "2  131.23  50884452  120.056069  121.134251  119.705890  120.931516   \n",
       "3  131.20  32112797  120.291057  121.078960  119.844118  120.903870   \n",
       "4  129.86  33667627  119.761181  120.401640  119.171406  119.669029   \n",
       "\n",
       "   adjVolume  divCash  splitFactor  \n",
       "0   45833246      0.0          1.0  \n",
       "1   30733309      0.0          1.0  \n",
       "2   50884452      0.0          1.0  \n",
       "3   32112797      0.0          1.0  \n",
       "4   33667627      0.0          1.0  "
      ]
     },
     "execution_count": 2,
     "metadata": {},
     "output_type": "execute_result"
    }
   ],
   "source": [
    "dataframe = pd.read_csv(r\"C:\\Users\\aashutosh kumar\\Downloads\\AAPL.csv\")\n",
    "dataframe.head(5)"
   ]
  },
  {
   "cell_type": "code",
   "execution_count": 3,
   "id": "1420fa0a-3683-49d1-881d-783481501224",
   "metadata": {},
   "outputs": [],
   "source": [
    "data = dataframe.reset_index()[\"close\"]"
   ]
  },
  {
   "cell_type": "code",
   "execution_count": 4,
   "id": "8c9e1062-38f0-435b-93a9-c0cc18ad0d09",
   "metadata": {},
   "outputs": [
    {
     "data": {
      "text/plain": [
       "0    132.045\n",
       "1    131.780\n",
       "2    130.280\n",
       "Name: close, dtype: float64"
      ]
     },
     "execution_count": 4,
     "metadata": {},
     "output_type": "execute_result"
    }
   ],
   "source": [
    "data.head(3)"
   ]
  },
  {
   "cell_type": "code",
   "execution_count": 5,
   "id": "8668682a-2f7d-4cdc-98ed-2db805223e03",
   "metadata": {},
   "outputs": [
    {
     "data": {
      "text/plain": [
       "[<matplotlib.lines.Line2D at 0x17e3e646670>]"
      ]
     },
     "execution_count": 5,
     "metadata": {},
     "output_type": "execute_result"
    },
    {
     "data": {
      "image/png": "[encoded data removed]",
      "text/plain": [
       "<Figure size 640x480 with 1 Axes>"
      ]
     },
     "metadata": {},
     "output_type": "display_data"
    }
   ],
   "source": [
    "sns.set_style(\"darkgrid\")\n",
    "plt.plot(data,color = \"limegreen\")"
   ]
  },
  {
   "cell_type": "code",
   "execution_count": 6,
   "id": "12c6fc25-5ee7-45ff-97fd-b2f82a77a36e",
   "metadata": {},
   "outputs": [],
   "source": [
    "scaler = MinMaxScaler()\n",
    "data_arr = np.array(data)\n",
    "data = scaler.fit_transform(data_arr.reshape(-1,1))"
   ]
  },
  {
   "cell_type": "code",
   "execution_count": 7,
   "id": "e30f9a1b-8904-4bcf-9f54-5c1314bf472c",
   "metadata": {},
   "outputs": [
    {
     "name": "stdout",
     "output_type": "stream",
     "text": [
      "880 378\n"
     ]
    }
   ],
   "source": [
    "train_size = int(len(data)*0.70)\n",
    "test_size = int(len(data)-train_size)\n",
    "print(train_size , test_size)\n",
    "train_data,test_data = data[0:train_size,:],data[train_size:len(data),:1]"
   ]
  },
  {
   "cell_type": "code",
   "execution_count": 8,
   "id": "d1599f19-cf82-4cad-8031-a060da0148fa",
   "metadata": {},
   "outputs": [
    {
     "data": {
      "text/plain": [
       "((880, 1), (378, 1))"
      ]
     },
     "execution_count": 8,
     "metadata": {},
     "output_type": "execute_result"
    }
   ],
   "source": [
    "train_data.shape,test_data.shape"
   ]
  },
  {
   "cell_type": "code",
   "execution_count": 9,
   "id": "5ada9da2-f953-40a1-8275-4e1d04e8bd34",
   "metadata": {},
   "outputs": [],
   "source": [
    "def create_dataset(dataset,time_step = 1):\n",
    "    X = []\n",
    "    Y = []\n",
    "    for i in range(len(dataset)-time_step-1):\n",
    "        a = dataset[i:(i+time_step),0]\n",
    "        X.append(a)\n",
    "        Y.append(dataset[i + time_step, 0])\n",
    "    return np.array(X),np.array(Y)"
   ]
  },
  {
   "cell_type": "code",
   "execution_count": 10,
   "id": "d9fe686d-efaa-462f-9711-e84c1edf2315",
   "metadata": {},
   "outputs": [],
   "source": [
    "time_step = 100\n",
    "X_train, y_train = create_dataset(train_data, time_step)\n",
    "X_test, ytest = create_dataset(test_data, time_step)"
   ]
  },
  {
   "cell_type": "code",
   "execution_count": 11,
   "id": "9e9fef45-7ae2-4af7-88ff-6ca697b83ee4",
   "metadata": {},
   "outputs": [
    {
     "name": "stdout",
     "output_type": "stream",
     "text": [
      "(779, 100)\n",
      "(779,)\n"
     ]
    },
    {
     "data": {
      "text/plain": [
       "(None, None)"
      ]
     },
     "execution_count": 11,
     "metadata": {},
     "output_type": "execute_result"
    }
   ],
   "source": [
    "print(X_train.shape), print(y_train.shape)\n"
   ]
  },
  {
   "cell_type": "code",
   "execution_count": 12,
   "id": "ff452042-5e32-4ea3-b727-1c393269e1ba",
   "metadata": {},
   "outputs": [
    {
     "data": {
      "text/plain": [
       "(779, 100, 1)"
      ]
     },
     "execution_count": 12,
     "metadata": {},
     "output_type": "execute_result"
    }
   ],
   "source": [
    "X_train =X_train.reshape(X_train.shape[0],X_train.shape[1] , 1)\n",
    "X_test = X_test.reshape(X_test.shape[0],X_test.shape[1] , 1)\n",
    "X_train.shape"
   ]
  },
  {
   "cell_type": "code",
   "execution_count": 13,
   "id": "d1b03be3-2ffc-438b-a0bb-4e9c888fb0d2",
   "metadata": {},
   "outputs": [],
   "source": [
    "model=Sequential()\n",
    "model.add(LSTM(50,return_sequences = True,input_shape=(100,1)))\n",
    "model.add(LSTM(50,return_sequences = True))\n",
    "model.add(LSTM(50,return_sequences = True))\n",
    "\n",
    "model.add(LSTM(50))\n",
    "model.add(Dense(50,activation = \"relu\"))\n",
    "model.add(Dense(25,activation = \"relu\"))\n",
    "\n",
    "model.add(Dense(1))\n",
    "model.compile(loss='mean_squared_error',optimizer='adam')"
   ]
  },
  {
   "cell_type": "code",
   "execution_count": 14,
   "id": "411ef1f0-c55e-49c9-bdbd-47cff43b3aed",
   "metadata": {},
   "outputs": [
    {
     "name": "stdout",
     "output_type": "stream",
     "text": [
      "Model: \"sequential\"\n",
      "_________________________________________________________________\n",
      " Layer (type)                Output Shape              Param #   \n",
      "=================================================================\n",
      " lstm (LSTM)                 (None, 100, 50)           10400     \n",
      "                                                                 \n",
      " lstm_1 (LSTM)               (None, 100, 50)           20200     \n",
      "                                                                 \n",
      " lstm_2 (LSTM)               (None, 100, 50)           20200     \n",
      "                                                                 \n",
      " lstm_3 (LSTM)               (None, 50)                20200     \n",
      "                                                                 \n",
      " dense (Dense)               (None, 50)                2550      \n",
      "                                                                 \n",
      " dense_1 (Dense)             (None, 25)                1275      \n",
      "                                                                 \n",
      " dense_2 (Dense)             (None, 1)                 26        \n",
      "                                                                 \n",
      "=================================================================\n",
      "Total params: 74,851\n",
      "Trainable params: 74,851\n",
      "Non-trainable params: 0\n",
      "_________________________________________________________________\n"
     ]
    }
   ],
   "source": [
    "model.summary()"
   ]
  },
  {
   "cell_type": "code",
   "execution_count": 15,
   "id": "6f551941-c2e0-4f18-b08e-f042b5c599a9",
   "metadata": {},
   "outputs": [
    {
     "name": "stdout",
     "output_type": "stream",
     "text": [
      "Epoch 1/100\n",
      "13/13 [==============================] - 8s 141ms/step - loss: 0.0234 - val_loss: 0.0953\n",
      "Epoch 2/100\n",
      "13/13 [==============================] - 1s 48ms/step - loss: 0.0043 - val_loss: 0.0106\n",
      "Epoch 3/100\n",
      "13/13 [==============================] - 1s 47ms/step - loss: 0.0018 - val_loss: 0.0065\n",
      "Epoch 4/100\n",
      "13/13 [==============================] - 1s 48ms/step - loss: 0.0012 - val_loss: 0.0073\n",
      "Epoch 5/100\n",
      "13/13 [==============================] - 1s 50ms/step - loss: 0.0012 - val_loss: 0.0077\n",
      "Epoch 6/100\n",
      "13/13 [==============================] - 1s 47ms/step - loss: 0.0010 - val_loss: 0.0180\n",
      "Epoch 7/100\n",
      "13/13 [==============================] - 1s 49ms/step - loss: 0.0011 - val_loss: 0.0155\n",
      "Epoch 8/100\n",
      "13/13 [==============================] - 1s 49ms/step - loss: 9.6020e-04 - val_loss: 0.0097\n",
      "Epoch 9/100\n",
      "13/13 [==============================] - 1s 49ms/step - loss: 9.2071e-04 - val_loss: 0.0093\n",
      "Epoch 10/100\n",
      "13/13 [==============================] - 1s 54ms/step - loss: 9.0214e-04 - val_loss: 0.0097\n",
      "Epoch 11/100\n",
      "13/13 [==============================] - 1s 47ms/step - loss: 9.9137e-04 - val_loss: 0.0161\n",
      "Epoch 12/100\n",
      "13/13 [==============================] - 1s 47ms/step - loss: 9.3855e-04 - val_loss: 0.0114\n",
      "Epoch 13/100\n",
      "13/13 [==============================] - 1s 49ms/step - loss: 8.4728e-04 - val_loss: 0.0096\n",
      "Epoch 14/100\n",
      "13/13 [==============================] - 1s 49ms/step - loss: 8.4577e-04 - val_loss: 0.0069\n",
      "Epoch 15/100\n",
      "13/13 [==============================] - 1s 49ms/step - loss: 8.2246e-04 - val_loss: 0.0111\n",
      "Epoch 16/100\n",
      "13/13 [==============================] - 1s 49ms/step - loss: 8.5969e-04 - val_loss: 0.0070\n",
      "Epoch 17/100\n",
      "13/13 [==============================] - 1s 51ms/step - loss: 7.7707e-04 - val_loss: 0.0115\n",
      "Epoch 18/100\n",
      "13/13 [==============================] - 1s 48ms/step - loss: 8.0461e-04 - val_loss: 0.0082\n",
      "Epoch 19/100\n",
      "13/13 [==============================] - 1s 48ms/step - loss: 7.4128e-04 - val_loss: 0.0070\n",
      "Epoch 20/100\n",
      "13/13 [==============================] - 1s 52ms/step - loss: 8.2268e-04 - val_loss: 0.0072\n",
      "Epoch 21/100\n",
      "13/13 [==============================] - 1s 49ms/step - loss: 7.1789e-04 - val_loss: 0.0060\n",
      "Epoch 22/100\n",
      "13/13 [==============================] - 1s 48ms/step - loss: 7.5059e-04 - val_loss: 0.0093\n",
      "Epoch 23/100\n",
      "13/13 [==============================] - 1s 49ms/step - loss: 7.7581e-04 - val_loss: 0.0097\n",
      "Epoch 24/100\n",
      "13/13 [==============================] - 1s 53ms/step - loss: 7.1255e-04 - val_loss: 0.0057\n",
      "Epoch 25/100\n",
      "13/13 [==============================] - 1s 51ms/step - loss: 7.0471e-04 - val_loss: 0.0118\n",
      "Epoch 26/100\n",
      "13/13 [==============================] - 1s 50ms/step - loss: 7.5682e-04 - val_loss: 0.0068\n",
      "Epoch 27/100\n",
      "13/13 [==============================] - 1s 51ms/step - loss: 6.0925e-04 - val_loss: 0.0038\n",
      "Epoch 28/100\n",
      "13/13 [==============================] - 1s 50ms/step - loss: 6.3937e-04 - val_loss: 0.0036\n",
      "Epoch 29/100\n",
      "13/13 [==============================] - 1s 51ms/step - loss: 6.5265e-04 - val_loss: 0.0083\n",
      "Epoch 30/100\n",
      "13/13 [==============================] - 1s 47ms/step - loss: 6.4923e-04 - val_loss: 0.0071\n",
      "Epoch 31/100\n",
      "13/13 [==============================] - 1s 51ms/step - loss: 6.5959e-04 - val_loss: 0.0047\n",
      "Epoch 32/100\n",
      "13/13 [==============================] - 1s 57ms/step - loss: 5.9543e-04 - val_loss: 0.0031\n",
      "Epoch 33/100\n",
      "13/13 [==============================] - 1s 50ms/step - loss: 7.5271e-04 - val_loss: 0.0083\n",
      "Epoch 34/100\n",
      "13/13 [==============================] - 1s 52ms/step - loss: 6.2861e-04 - val_loss: 0.0078\n",
      "Epoch 35/100\n",
      "13/13 [==============================] - 1s 49ms/step - loss: 5.7885e-04 - val_loss: 0.0041\n",
      "Epoch 36/100\n",
      "13/13 [==============================] - 1s 49ms/step - loss: 5.4651e-04 - val_loss: 0.0078\n",
      "Epoch 37/100\n",
      "13/13 [==============================] - 1s 48ms/step - loss: 6.0154e-04 - val_loss: 0.0039\n",
      "Epoch 38/100\n",
      "13/13 [==============================] - 1s 51ms/step - loss: 6.1710e-04 - val_loss: 0.0026\n",
      "Epoch 39/100\n",
      "13/13 [==============================] - 1s 49ms/step - loss: 9.4656e-04 - val_loss: 0.0106\n",
      "Epoch 40/100\n",
      "13/13 [==============================] - 1s 49ms/step - loss: 7.9710e-04 - val_loss: 0.0067\n",
      "Epoch 41/100\n",
      "13/13 [==============================] - 1s 53ms/step - loss: 7.4322e-04 - val_loss: 0.0053\n",
      "Epoch 42/100\n",
      "13/13 [==============================] - 1s 49ms/step - loss: 6.0622e-04 - val_loss: 0.0066\n",
      "Epoch 43/100\n",
      "13/13 [==============================] - 1s 51ms/step - loss: 6.1624e-04 - val_loss: 0.0035\n",
      "Epoch 44/100\n",
      "13/13 [==============================] - 1s 52ms/step - loss: 5.7061e-04 - val_loss: 0.0081\n",
      "Epoch 45/100\n",
      "13/13 [==============================] - 1s 49ms/step - loss: 5.6391e-04 - val_loss: 0.0033\n",
      "Epoch 46/100\n",
      "13/13 [==============================] - 1s 50ms/step - loss: 5.1250e-04 - val_loss: 0.0053\n",
      "Epoch 47/100\n",
      "13/13 [==============================] - 1s 51ms/step - loss: 4.9545e-04 - val_loss: 0.0030\n",
      "Epoch 48/100\n",
      "13/13 [==============================] - 1s 50ms/step - loss: 5.0771e-04 - val_loss: 0.0035\n",
      "Epoch 49/100\n",
      "13/13 [==============================] - 1s 52ms/step - loss: 5.3472e-04 - val_loss: 0.0034\n",
      "Epoch 50/100\n",
      "13/13 [==============================] - 1s 51ms/step - loss: 5.4716e-04 - val_loss: 0.0030\n",
      "Epoch 51/100\n",
      "13/13 [==============================] - 1s 48ms/step - loss: 5.0025e-04 - val_loss: 0.0058\n",
      "Epoch 52/100\n",
      "13/13 [==============================] - 1s 49ms/step - loss: 5.1553e-04 - val_loss: 0.0026\n",
      "Epoch 53/100\n",
      "13/13 [==============================] - 1s 53ms/step - loss: 4.4753e-04 - val_loss: 0.0029\n",
      "Epoch 54/100\n",
      "13/13 [==============================] - 1s 48ms/step - loss: 4.5030e-04 - val_loss: 0.0038\n",
      "Epoch 55/100\n",
      "13/13 [==============================] - 1s 51ms/step - loss: 4.5060e-04 - val_loss: 0.0055\n",
      "Epoch 56/100\n",
      "13/13 [==============================] - 1s 53ms/step - loss: 4.9640e-04 - val_loss: 0.0059\n",
      "Epoch 57/100\n",
      "13/13 [==============================] - 1s 51ms/step - loss: 6.3657e-04 - val_loss: 0.0036\n",
      "Epoch 58/100\n",
      "13/13 [==============================] - 1s 49ms/step - loss: 5.1693e-04 - val_loss: 0.0027\n",
      "Epoch 59/100\n",
      "13/13 [==============================] - 1s 49ms/step - loss: 4.7085e-04 - val_loss: 0.0051\n",
      "Epoch 60/100\n",
      "13/13 [==============================] - 1s 52ms/step - loss: 4.5768e-04 - val_loss: 0.0040\n",
      "Epoch 61/100\n",
      "13/13 [==============================] - 1s 48ms/step - loss: 4.4084e-04 - val_loss: 0.0073\n",
      "Epoch 62/100\n",
      "13/13 [==============================] - 1s 47ms/step - loss: 5.0249e-04 - val_loss: 0.0024\n",
      "Epoch 63/100\n",
      "13/13 [==============================] - 1s 50ms/step - loss: 4.6659e-04 - val_loss: 0.0018\n",
      "Epoch 64/100\n",
      "13/13 [==============================] - 1s 48ms/step - loss: 4.7975e-04 - val_loss: 0.0029\n",
      "Epoch 65/100\n",
      "13/13 [==============================] - 1s 51ms/step - loss: 3.9979e-04 - val_loss: 0.0020\n",
      "Epoch 66/100\n",
      "13/13 [==============================] - 1s 52ms/step - loss: 3.8755e-04 - val_loss: 0.0017\n",
      "Epoch 67/100\n",
      "13/13 [==============================] - 1s 52ms/step - loss: 4.3072e-04 - val_loss: 0.0021\n",
      "Epoch 68/100\n",
      "13/13 [==============================] - 1s 49ms/step - loss: 4.6074e-04 - val_loss: 0.0091\n",
      "Epoch 69/100\n",
      "13/13 [==============================] - 1s 47ms/step - loss: 4.1199e-04 - val_loss: 0.0038\n",
      "Epoch 70/100\n",
      "13/13 [==============================] - 1s 48ms/step - loss: 3.8603e-04 - val_loss: 0.0042\n",
      "Epoch 71/100\n",
      "13/13 [==============================] - 1s 48ms/step - loss: 3.7777e-04 - val_loss: 0.0024\n",
      "Epoch 72/100\n",
      "13/13 [==============================] - 1s 53ms/step - loss: 3.8613e-04 - val_loss: 0.0038\n",
      "Epoch 73/100\n",
      "13/13 [==============================] - 1s 49ms/step - loss: 4.8967e-04 - val_loss: 0.0032\n",
      "Epoch 74/100\n",
      "13/13 [==============================] - 1s 50ms/step - loss: 4.1204e-04 - val_loss: 0.0020\n",
      "Epoch 75/100\n",
      "13/13 [==============================] - 1s 49ms/step - loss: 3.6872e-04 - val_loss: 0.0020\n",
      "Epoch 76/100\n",
      "13/13 [==============================] - 1s 49ms/step - loss: 3.5169e-04 - val_loss: 0.0017\n",
      "Epoch 77/100\n",
      "13/13 [==============================] - 1s 48ms/step - loss: 3.5568e-04 - val_loss: 0.0023\n",
      "Epoch 78/100\n",
      "13/13 [==============================] - 1s 50ms/step - loss: 4.4040e-04 - val_loss: 0.0037\n",
      "Epoch 79/100\n",
      "13/13 [==============================] - 1s 50ms/step - loss: 3.8474e-04 - val_loss: 0.0044\n",
      "Epoch 80/100\n",
      "13/13 [==============================] - 1s 49ms/step - loss: 3.2336e-04 - val_loss: 0.0028\n",
      "Epoch 81/100\n",
      "13/13 [==============================] - 1s 49ms/step - loss: 3.3663e-04 - val_loss: 0.0014\n",
      "Epoch 82/100\n",
      "13/13 [==============================] - 1s 53ms/step - loss: 3.4703e-04 - val_loss: 0.0015\n",
      "Epoch 83/100\n",
      "13/13 [==============================] - 1s 49ms/step - loss: 3.4598e-04 - val_loss: 0.0014\n",
      "Epoch 84/100\n",
      "13/13 [==============================] - 1s 49ms/step - loss: 2.9832e-04 - val_loss: 0.0016\n",
      "Epoch 85/100\n",
      "13/13 [==============================] - 1s 52ms/step - loss: 2.9195e-04 - val_loss: 0.0014\n",
      "Epoch 86/100\n",
      "13/13 [==============================] - 1s 48ms/step - loss: 2.7835e-04 - val_loss: 0.0023\n",
      "Epoch 87/100\n",
      "13/13 [==============================] - 1s 50ms/step - loss: 2.9937e-04 - val_loss: 0.0014\n",
      "Epoch 88/100\n",
      "13/13 [==============================] - 1s 52ms/step - loss: 2.8671e-04 - val_loss: 0.0014\n",
      "Epoch 89/100\n",
      "13/13 [==============================] - 1s 51ms/step - loss: 2.6120e-04 - val_loss: 0.0015\n",
      "Epoch 90/100\n",
      "13/13 [==============================] - 1s 48ms/step - loss: 2.7984e-04 - val_loss: 0.0021\n",
      "Epoch 91/100\n",
      "13/13 [==============================] - 1s 53ms/step - loss: 2.6160e-04 - val_loss: 0.0014\n",
      "Epoch 92/100\n",
      "13/13 [==============================] - 1s 50ms/step - loss: 2.5865e-04 - val_loss: 0.0015\n",
      "Epoch 93/100\n",
      "13/13 [==============================] - 1s 47ms/step - loss: 2.5080e-04 - val_loss: 0.0027\n",
      "Epoch 94/100\n",
      "13/13 [==============================] - 1s 50ms/step - loss: 2.4951e-04 - val_loss: 0.0019\n",
      "Epoch 95/100\n",
      "13/13 [==============================] - 1s 50ms/step - loss: 2.4080e-04 - val_loss: 0.0019\n",
      "Epoch 96/100\n",
      "13/13 [==============================] - 1s 47ms/step - loss: 2.4701e-04 - val_loss: 0.0027\n",
      "Epoch 97/100\n",
      "13/13 [==============================] - 1s 52ms/step - loss: 2.3880e-04 - val_loss: 0.0019\n",
      "Epoch 98/100\n",
      "13/13 [==============================] - 1s 49ms/step - loss: 2.5162e-04 - val_loss: 0.0021\n",
      "Epoch 99/100\n",
      "13/13 [==============================] - 1s 49ms/step - loss: 2.3752e-04 - val_loss: 0.0024\n",
      "Epoch 100/100\n",
      "13/13 [==============================] - 1s 51ms/step - loss: 2.3644e-04 - val_loss: 0.0024\n"
     ]
    }
   ],
   "source": [
    "m = model.fit(X_train,y_train,validation_data=(X_test,ytest),epochs=100,batch_size=64)\n"
   ]
  },
  {
   "cell_type": "code",
   "execution_count": 19,
   "id": "ce74164e-2c0e-4324-80ab-4c538be8cde2",
   "metadata": {},
   "outputs": [
    {
     "data": {
      "text/plain": [
       "<matplotlib.legend.Legend at 0x17e4fa1e1c0>"
      ]
     },
     "execution_count": 19,
     "metadata": {},
     "output_type": "execute_result"
    },
    {
     "data": {
      "image/png": "[encoded data removed]",
      "text/plain": [
       "<Figure size 640x480 with 1 Axes>"
      ]
     },
     "metadata": {},
     "output_type": "display_data"
    }
   ],
   "source": [
    "sns.set_style(\"darkgrid\")\n",
    "plt.plot(m.history[\"loss\"])\n",
    "plt.plot(m.history[\"val_loss\"])\n",
    "plt.legend([\"val_loss\",\"loss\"])"
   ]
  },
  {
   "cell_type": "code",
   "execution_count": 20,
   "id": "e2c5000b-943e-4f18-9fda-1a5c4528cd5e",
   "metadata": {},
   "outputs": [
    {
     "name": "stdout",
     "output_type": "stream",
     "text": [
      "25/25 [==============================] - 2s 22ms/step\n",
      "9/9 [==============================] - 0s 20ms/step\n"
     ]
    }
   ],
   "source": [
    "train_predict=model.predict(X_train)\n",
    "test_predict=model.predict(X_test)"
   ]
  },
  {
   "cell_type": "code",
   "execution_count": 21,
   "id": "00d2043b-40cb-47ee-9d19-277a7216e2bf",
   "metadata": {},
   "outputs": [],
   "source": [
    "train_predict=scaler.inverse_transform(train_predict)\n",
    "test_predict=scaler.inverse_transform(test_predict)"
   ]
  },
  {
   "cell_type": "code",
   "execution_count": 23,
   "id": "ca3007e1-fd5d-4ff8-b757-24d53fad6728",
   "metadata": {},
   "outputs": [
    {
     "data": {
      "text/plain": [
       "146.9419353797189"
      ]
     },
     "execution_count": 23,
     "metadata": {},
     "output_type": "execute_result"
    }
   ],
   "source": [
    "math.sqrt(mean_squared_error(y_train,train_predict))"
   ]
  },
  {
   "cell_type": "code",
   "execution_count": 25,
   "id": "70856aea-f61f-4620-9518-494225f41826",
   "metadata": {},
   "outputs": [
    {
     "data": {
      "text/plain": [
       "242.04304731405037"
      ]
     },
     "execution_count": 25,
     "metadata": {},
     "output_type": "execute_result"
    }
   ],
   "source": [
    "math.sqrt(mean_squared_error(ytest,test_predict))"
   ]
  },
  {
   "cell_type": "code",
   "execution_count": 29,
   "id": "37c86d6b-b5da-4b24-8f30-bff082f3d9bf",
   "metadata": {},
   "outputs": [
    {
     "data": {
      "image/png": "[encoded data removed]",
      "text/plain": [
       "<Figure size 640x480 with 1 Axes>"
      ]
     },
     "metadata": {},
     "output_type": "display_data"
    }
   ],
   "source": [
    "look_back=100\n",
    "trainPredictPlot = np.empty_like(data)\n",
    "trainPredictPlot[:, :] = np.nan\n",
    "trainPredictPlot[look_back:len(train_predict)+look_back, :] = train_predict\n",
    "testPredictPlot = np.empty_like(data)\n",
    "testPredictPlot[:, :] = np.nan\n",
    "testPredictPlot[len(train_predict)+(look_back*2)+1:len(data)-1, :] = test_predict\n",
    "\n",
    "plt.plot(scaler.inverse_transform(data))\n",
    "plt.plot(trainPredictPlot)\n",
    "plt.plot(testPredictPlot)\n",
    "plt.show()"
   ]
  },
  {
   "cell_type": "code",
   "execution_count": null,
   "id": "cce96d8b-9036-4802-8a2c-fd72a82cd235",
   "metadata": {},
   "outputs": [],
   "source": []
  }
 ],
 "metadata": {
  "kernelspec": {
   "display_name": "Python 3 (ipykernel)",
   "language": "python",
   "name": "python3"
  },
  "language_info": {
   "codemirror_mode": {
    "name": "ipython",
    "version": 3
   },
   "file_extension": ".py",
   "mimetype": "text/x-python",
   "name": "python",
   "nbconvert_exporter": "python",
   "pygments_lexer": "ipython3",
   "version": "3.9.19"
  }
 },
 "nbformat": 4,
 "nbformat_minor": 5
}
